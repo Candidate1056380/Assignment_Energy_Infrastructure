{
 "cells": [
  {
   "cell_type": "code",
   "execution_count": 3,
   "metadata": {},
   "outputs": [
    {
     "name": "stdout",
     "output_type": "stream",
     "text": [
      "                     City    Population  Size  Peak Loading with Solar  \\\n",
      "0              Es Bessons   60128.00000   220                69.259386   \n",
      "1                    Lubi   21132.00000   220                70.955186   \n",
      "2                Son Reus   64778.00000   220                60.292008   \n",
      "3             Valldurgent  210353.50000   220                69.483354   \n",
      "4            Son Orlandis    7049.00000   220                79.552013   \n",
      "5             Es Murterar   42982.00000   220                73.002095   \n",
      "6           Cala Mesquida   19371.00000   132               260.682889   \n",
      "7           Cala en Bosch    4096.00000   132               240.443245   \n",
      "8   Ciutadella de Menorca   68036.00000   132               234.985900   \n",
      "9             Es Mercadal   19662.00000   132                 0.000000   \n",
      "10              Dragonera   18422.66667   132                73.732053   \n",
      "11                  Mahon   22103.33333   132                 0.000000   \n",
      "12                Eivissa  237892.31510    69                73.732053   \n",
      "13            Santa Ponsa   16158.00000    69                62.568882   \n",
      "14           Cas Tresorer  248388.50000   220                79.292006   \n",
      "\n",
      "    Longitude   Latitude  \n",
      "0    3.158332  39.582264  \n",
      "1    3.039912  39.673664  \n",
      "2    2.678874  39.651175  \n",
      "3    2.549252  39.584326  \n",
      "4    2.744213  39.600268  \n",
      "5    3.092442  39.809435  \n",
      "6    3.427469  39.738679  \n",
      "7    3.833790  39.931988  \n",
      "8    3.855312  40.003394  \n",
      "9    4.095920  39.977089  \n",
      "10   4.236671  39.891211  \n",
      "11   4.257964  39.897151  \n",
      "12   1.431000  38.919212  \n",
      "13   2.508957  39.537679  \n",
      "14   2.724317  39.568369  \n"
     ]
    }
   ],
   "source": [
    "#this is a code that I used to make various QGIS elements. \n",
    "\n",
    "#First I imported all of the needed packages\n",
    "\n",
    "import pandas as pd\n",
    "import geopandas\n",
    "import matplotlib.pyplot as plt\n",
    "\n",
    "\n",
    "#Next I created a dataframe with the data I want for each of the points\n",
    "df = pd.DataFrame(\n",
    "    {'City': ['Es Bessons', 'Lubi', 'Son Reus', 'Valldurgent', 'Son Orlandis', 'Es Murterar', 'Cala Mesquida', 'Cala en Bosch', 'Ciutadella de Menorca', 'Es Mercadal', 'Dragonera', 'Mahon', 'Eivissa', 'Santa Ponsa', 'Cas Tresorer'],\n",
    "     'Population': [60128, 21132, 64778, 210353.5, 7049, 42982, 19371, 4096, 68036, 19662, 18422.66667, 22103.33333, 237892.3151, 16158, 248388.5],\n",
    "     'Size':[220, 220, 220, 220, 220, 220, 132, 132, 132, 132, 132, 132, 69, 69, 220],\n",
    "     'Peak Loading with Solar':[69.25938607, 70.95518588, 60.29200841, 69.48335426, 79.5520128, 73.00209526, 260.6828888, 240.4432446, 234.9858997, 0, 73.73205306, 0, 73.73205306,  62.56888191, 79.2920055],\n",
    "     'Longitude': [3.1583316, 3.0399121, 2.6788739, 2.5492521, 2.7442129, 3.092442, 3.42746869, 3.83379024, 3.8553116, 4.09591994, 4.2366714, 4.25796449, 1.4310005, 2.50895716, 2.7243168],\n",
    "     'Latitude': [39.5822638, 39.6736644, 39.6511746, 39.5843260, 39.6002680,39.809435, 39.73867947, 39.93198792, 40.0033945, 39.97708936, 39.8912109, 39.89715096, 38.9192119, 39.53767893, 39.5683692]})\n",
    "\n",
    "#print(df)\n"
   ]
  },
  {
   "cell_type": "code",
   "execution_count": 4,
   "metadata": {},
   "outputs": [
    {
     "name": "stdout",
     "output_type": "stream",
     "text": [
      "                     City    Population  Size  Peak Loading with Solar  \\\n",
      "0              Es Bessons   60128.00000   220                69.259386   \n",
      "1                    Lubi   21132.00000   220                70.955186   \n",
      "2                Son Reus   64778.00000   220                60.292008   \n",
      "3             Valldurgent  210353.50000   220                69.483354   \n",
      "4            Son Orlandis    7049.00000   220                79.552013   \n",
      "5             Es Murterar   42982.00000   220                73.002095   \n",
      "6           Cala Mesquida   19371.00000   132               260.682889   \n",
      "7           Cala en Bosch    4096.00000   132               240.443245   \n",
      "8   Ciutadella de Menorca   68036.00000   132               234.985900   \n",
      "9             Es Mercadal   19662.00000   132                 0.000000   \n",
      "10              Dragonera   18422.66667   132                73.732053   \n",
      "11                  Mahon   22103.33333   132                 0.000000   \n",
      "12                Eivissa  237892.31510    69                73.732053   \n",
      "13            Santa Ponsa   16158.00000    69                62.568882   \n",
      "14           Cas Tresorer  248388.50000   220                79.292006   \n",
      "\n",
      "    Longitude   Latitude                  geometry  \n",
      "0    3.158332  39.582264  POINT (3.15833 39.58226)  \n",
      "1    3.039912  39.673664  POINT (3.03991 39.67366)  \n",
      "2    2.678874  39.651175  POINT (2.67887 39.65117)  \n",
      "3    2.549252  39.584326  POINT (2.54925 39.58433)  \n",
      "4    2.744213  39.600268  POINT (2.74421 39.60027)  \n",
      "5    3.092442  39.809435  POINT (3.09244 39.80944)  \n",
      "6    3.427469  39.738679  POINT (3.42747 39.73868)  \n",
      "7    3.833790  39.931988  POINT (3.83379 39.93199)  \n",
      "8    3.855312  40.003394  POINT (3.85531 40.00339)  \n",
      "9    4.095920  39.977089  POINT (4.09592 39.97709)  \n",
      "10   4.236671  39.891211  POINT (4.23667 39.89121)  \n",
      "11   4.257964  39.897151  POINT (4.25796 39.89715)  \n",
      "12   1.431000  38.919212  POINT (1.43100 38.91921)  \n",
      "13   2.508957  39.537679  POINT (2.50896 39.53768)  \n",
      "14   2.724317  39.568369  POINT (2.72432 39.56837)  \n"
     ]
    }
   ],
   "source": [
    "# then I converted this to GPS coordinates. \n",
    "gdf = geopandas.GeoDataFrame(\n",
    "    df, crs=\"EPSG:4326\", geometry=geopandas.points_from_xy(df.Longitude, df.Latitude))\n",
    "print(gdf)"
   ]
  },
  {
   "cell_type": "code",
   "execution_count": 5,
   "metadata": {},
   "outputs": [],
   "source": [
    "# Next I exported it to a SHP file\n",
    "\n",
    "gdf.to_file(\"stations.shp\")"
   ]
  },
  {
   "cell_type": "code",
   "execution_count": 27,
   "metadata": {},
   "outputs": [
    {
     "name": "stdout",
     "output_type": "stream",
     "text": [
      "                                           geometry\n",
      "0   LINESTRING (2.50896 39.53768, 1.43100 38.91921)\n",
      "1   LINESTRING (2.50896 39.53768, 2.54925 39.58433)\n",
      "2   LINESTRING (2.54925 39.58433, 2.67887 39.65117)\n",
      "3   LINESTRING (2.67887 39.65117, 2.74421 39.60027)\n",
      "4   LINESTRING (2.72432 39.56837, 2.74421 39.60027)\n",
      "5   LINESTRING (2.67887 39.65117, 3.03991 39.67366)\n",
      "6   LINESTRING (2.74421 39.60027, 3.03991 39.67366)\n",
      "7   LINESTRING (3.03991 39.67366, 3.09244 39.80944)\n",
      "8   LINESTRING (3.03991 39.67366, 3.15833 39.58226)\n",
      "9   LINESTRING (3.15833 39.58226, 3.42747 39.73868)\n",
      "10  LINESTRING (3.42747 39.73868, 3.83379 39.93199)\n",
      "11  LINESTRING (3.83379 39.93199, 3.85531 40.00339)\n",
      "12  LINESTRING (4.23667 39.89121, 4.25796 39.89715)\n",
      "13  LINESTRING (3.85531 40.00339, 4.09592 39.97709)\n",
      "14  LINESTRING (3.85531 40.00339, 4.23667 39.89121)\n"
     ]
    }
   ],
   "source": [
    "# This loop creates lines between the various substations\n",
    "\n",
    "from shapely.geometry import Point, LineString\n",
    "line_A = LineString([[df.Longitude[13], df.Latitude[13]], [df.Longitude[12], df.Latitude[12]]])\n",
    "line_B = LineString([[df.Longitude[13], df.Latitude[13]], [df.Longitude[3], df.Latitude[3]]])\n",
    "line_C = LineString([[df.Longitude[3], df.Latitude[3]], [df.Longitude[2], df.Latitude[2]]])\n",
    "line_D = LineString([[df.Longitude[2], df.Latitude[2]], [df.Longitude[4], df.Latitude[4]]])\n",
    "line_E = LineString([[df.Longitude[14], df.Latitude[14]], [df.Longitude[4], df.Latitude[4]]])\n",
    "line_F = LineString([[df.Longitude[2], df.Latitude[2]], [df.Longitude[1], df.Latitude[1]]])\n",
    "line_G = LineString([[df.Longitude[4], df.Latitude[4]], [df.Longitude[1], df.Latitude[1]]])\n",
    "line_H = LineString([[df.Longitude[1], df.Latitude[1]], [df.Longitude[5], df.Latitude[5]]])\n",
    "line_I= LineString([[df.Longitude[1], df.Latitude[1]], [df.Longitude[0], df.Latitude[0]]])\n",
    "line_J= LineString([[df.Longitude[0], df.Latitude[0]], [df.Longitude[6], df.Latitude[6]]])\n",
    "line_K = LineString([[df.Longitude[6], df.Latitude[6]], [df.Longitude[7], df.Latitude[7]]])\n",
    "line_L= LineString([[df.Longitude[7], df.Latitude[7]], [df.Longitude[8], df.Latitude[8]]])\n",
    "line_M= LineString([[df.Longitude[10], df.Latitude[10]], [df.Longitude[11], df.Latitude[11]]])\n",
    "line_N= LineString([[df.Longitude[8], df.Latitude[8]], [df.Longitude[10], df.Latitude[10]]])\n",
    "\n",
    "\n",
    "line_O= LineString([[df.Longitude[8], df.Latitude[8]], [df.Longitude[9], df.Latitude[9]]])\n",
    "\n",
    "#Converting this into a geodataframe\n",
    "line_gdf = geopandas.GeoDataFrame(crs=\"EPSG:4326\", geometry=[line_A, line_B,line_C, line_D, line_E, line_F, line_G, line_H, line_I, line_J, line_K, line_L, line_M, line_O, line_N])\n",
    "print(line_gdf)\n"
   ]
  },
  {
   "cell_type": "code",
   "execution_count": 28,
   "metadata": {},
   "outputs": [],
   "source": [
    "#This code converts the lines to a shapefile\n",
    "line_gdf.to_file(\"lines.shp\")"
   ]
  },
  {
   "cell_type": "code",
   "execution_count": 6,
   "metadata": {},
   "outputs": [],
   "source": [
    "# this is a new data frame for specific points that I wanted to name\n",
    "df = pd.DataFrame(\n",
    "    {'City': ['Majorca', 'Menorca', 'Ibiza', 'Formentera'],\n",
    "     'Longitude': [3.1583316, 4.095920, 1.4310005,  1.4499982],\n",
    "     'Latitude': [39.5822638, 39.977089, 38.9192119, 38.6999972]})\n",
    "\n",
    "gdf = geopandas.GeoDataFrame(\n",
    "    df, crs=\"EPSG:4326\", geometry=geopandas.points_from_xy(df.Longitude, df.Latitude))\n",
    "\n",
    "gdf.to_file(\"islands.shp\")"
   ]
  },
  {
   "cell_type": "code",
   "execution_count": 10,
   "metadata": {},
   "outputs": [],
   "source": [
    "# This is another dataframe that was specific for the movie that I made in QGIs. I only wanted labels for these points so I made them their own dataframe\n",
    "df = pd.DataFrame(\n",
    "    {'City': ['Son Reus', 'Santa Ponsa'],\n",
    "     'Longitude': [2.6788739, 2.50895716],\n",
    "     'Latitude': [39.6511746, 39.53767893]})\n",
    "\n",
    "gdf = geopandas.GeoDataFrame(\n",
    "    df, crs=\"EPSG:4326\", geometry=geopandas.points_from_xy(df.Longitude, df.Latitude))\n",
    "\n",
    "gdf.to_file(\"sonreusponsa.shp\")"
   ]
  },
  {
   "cell_type": "code",
   "execution_count": 13,
   "metadata": {},
   "outputs": [],
   "source": [
    "# Once again a new dataframe for a point I wanted to highlight alone. \n",
    "df = pd.DataFrame(\n",
    "    {'City': ['Majorca'],\n",
    "     'Longitude': [3.1583316],\n",
    "     'Latitude': [39.3822638]})\n",
    "\n",
    "gdf = geopandas.GeoDataFrame(\n",
    "    df, crs=\"EPSG:4326\", geometry=geopandas.points_from_xy(df.Longitude, df.Latitude))\n",
    "\n",
    "gdf.to_file(\"majporca.shp\")"
   ]
  },
  {
   "cell_type": "code",
   "execution_count": null,
   "metadata": {},
   "outputs": [],
   "source": []
  }
 ],
 "metadata": {
  "kernelspec": {
   "display_name": "geo_env",
   "language": "python",
   "name": "geo_env"
  },
  "language_info": {
   "codemirror_mode": {
    "name": "ipython",
    "version": 3
   },
   "file_extension": ".py",
   "mimetype": "text/x-python",
   "name": "python",
   "nbconvert_exporter": "python",
   "pygments_lexer": "ipython3",
   "version": "3.8.6"
  }
 },
 "nbformat": 4,
 "nbformat_minor": 4
}
