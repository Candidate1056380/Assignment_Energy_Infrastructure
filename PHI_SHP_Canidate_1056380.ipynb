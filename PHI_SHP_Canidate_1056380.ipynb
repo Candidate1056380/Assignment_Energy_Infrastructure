{
 "cells": [
  {
   "cell_type": "code",
   "execution_count": 2,
   "metadata": {},
   "outputs": [],
   "source": [
    "#This code is for the 2nd question of the assessment for the Energy Infrastructure Module at the University of Oxford.\n",
    "#This code creates the shapefiles used in QGIS to map out the system in comparison to a nearby solar array\n",
    "#A geo_env kernal should be used to run this code\n",
    "#The following code was made by the Philippines Team and edited by Canidate 1056380\n",
    "\n"
   ]
  },
  {
   "cell_type": "code",
   "execution_count": null,
   "metadata": {},
   "outputs": [],
   "source": [
    "# First import all the functions needed\n",
    "import geopandas as gpd\n",
    "import matplotlib.pyplot as plt\n",
    "import numpy as np\n",
    "from shapely.geometry import Point \n",
    "from shapely.geometry import LineString\n",
    "from shapely.geometry import Polygon\n",
    "import pandas as pd\n",
    "import numpy as np\n",
    "import geopandas as gpd\n",
    "import pyproj\n",
    "from shapely.ops import transform"
   ]
  },
  {
   "cell_type": "code",
   "execution_count": 4,
   "metadata": {},
   "outputs": [
    {
     "data": {
      "text/plain": [
       "1210175.351277225"
      ]
     },
     "execution_count": 4,
     "metadata": {},
     "output_type": "execute_result"
    }
   ],
   "source": [
    "# Start the coordinate transformation process using the initial reference coordinate\n",
    "# This is the Philippines location point given in assignment, given in Google Earth crs\n",
    "p0 = Point(10.877639, 123.471833) \n",
    "\n",
    "# Create transform function to convert latlong coords into metres for manipulation\n",
    "project = pyproj.Transformer.from_proj(\n",
    "    pyproj.Proj('epsg:4326'), # source coordinate system, GOOGLE EARTH USES 4326 IN DEGREES\n",
    "    pyproj.Proj('epsg:3395')) # destination coordinate system, MERCATOR IN METRES\n",
    "\n",
    "# New transformered reference coordinates, used as reference X0 and Y0\n",
    "pnew  = transform(project.transform, p0)  # apply projection\n",
    "X0 = pnew.x\n",
    "Y0 = pnew.y"
   ]
  },
  {
   "cell_type": "code",
   "execution_count": 3,
   "metadata": {},
   "outputs": [],
   "source": [
    "# Dimensions definitions, we need x and y as districts are mapped both vertically and horizontally\n",
    "# House\n",
    "x_house= 10 # length of house when travelling 'left-right'\n",
    "y_house= 10 # length of house when travelling 'up-down'\n",
    "\n",
    "# Road\n",
    "x_road=10\n",
    "y_road=10\n",
    "\n",
    "# Transformers\n",
    "length_t=60 # distance from small transformers to central transformer"
   ]
  },
  {
   "cell_type": "code",
   "execution_count": 4,
   "metadata": {},
   "outputs": [],
   "source": [
    "# Defining initial locations of transformers based on reference point so we can later create loops\n",
    "transformers=[[X0,Y0],\n",
    "              [X0+length_t,Y0],\n",
    "              [X0,Y0+length_t],\n",
    "              [X0-length_t,Y0],\n",
    "              [X0,Y0-length_t],\n",
    "              [X0+length_t,Y0+length_t],\n",
    "              [X0+-length_t,Y0+length_t]]\n",
    "trf_df=pd.DataFrame(transformers, columns=[\"X\", \"Y\"]) # and create a dataframe with coordinates (required for gdf later)"
   ]
  },
  {
   "cell_type": "code",
   "execution_count": 5,
   "metadata": {},
   "outputs": [],
   "source": [
    "# Function to create all points in a district - this excludes the school\n",
    "# 4 inputs: entry coordinates, horizontal layout or not, number of houses in district i.e. 48 or 12\n",
    "# Output is an array of x,y coordinates (no geodata yet, just an array)\n",
    "def district (x_e,y_e,horizontal,n):\n",
    "    district=[]\n",
    "    count=0\n",
    "    if horizontal==False: # This creates points in the left and right districts\n",
    "        x=x_e+1/2*x_house\n",
    "        y=y_e\n",
    "        while count<(n):\n",
    "            for i in range (0,12): # We count by sets of 12\n",
    "                if i<6: \n",
    "                     district.append([x+i*x_house,y]) # First set of 6 has same y-coordinates\n",
    "                else:\n",
    "                    district.append([x+(i-6)*x_house,y+y_house]) # Second set has y-coords increased by one house dist\n",
    "            count+=12 # Move into next set of 12, which is separated by additional road distance\n",
    "            y+=y_road+2*y_house\n",
    "    if horizontal ==True: # This creates points in the left and right districts\n",
    "        x=x_e\n",
    "        y=y_e+1/2*y_house\n",
    "        while count<(n):\n",
    "            for i in range (0,12):\n",
    "                if i<6:\n",
    "                     district.append([x,y+i*y_house])\n",
    "                else:\n",
    "                    district.append([x+x_house,y+(i-6)*y_house])\n",
    "            count+=12\n",
    "            x+=x_road+2*x_house\n",
    "    return district"
   ]
  },
  {
   "cell_type": "code",
   "execution_count": 6,
   "metadata": {},
   "outputs": [],
   "source": [
    "# Function to create polygons i.e. areas around the points we have just defined - this excludes school\n",
    "# 2 inputs: the object i.e. district, trf or sch, and half-length or 'radius' around the point\n",
    "# Output is an array of Polygons, contains geodata\n",
    "def polygons(df_object, half_length):\n",
    "    polygons = []\n",
    "    for i in range (0,len(df_object)):\n",
    "        X0 = df_object.X[i] # given a reference point\n",
    "        Y0 = df_object.Y[i]\n",
    "        X1 = X0-half_length # we create four points around it X1Y1 TO X4Y4\n",
    "        Y1 = Y0-half_length\n",
    "        X2 = X0-half_length\n",
    "        Y2 = Y0+half_length\n",
    "        X3 = X0+half_length\n",
    "        Y3 = Y0+half_length\n",
    "        X4 = X0+half_length\n",
    "        Y4 = Y0-half_length\n",
    "        polygons.append(Polygon([(X1, Y1), (X2, Y2), (X3, Y3), (X4, Y4)])) # and create a polygon using those points\n",
    "        i+=1\n",
    "    return polygons"
   ]
  },
  {
   "cell_type": "code",
   "execution_count": 7,
   "metadata": {},
   "outputs": [],
   "source": [
    "# Function to create nodes where distribution lines turn in a district - again, excludes the school\n",
    "# 4 inputs: district #, horizontal layout or not, initial coordinates of the associated district transformer\n",
    "# Output is an array of x,y coordinates (no geodata yet, just an array)\n",
    "def nodes (district,horizontal,x_t,y_t):\n",
    "    nodes=[]\n",
    "    nodes.append([x_t,y_t])\n",
    "    count=6\n",
    "    n=len(district)\n",
    "    if n>12:\n",
    "        if horizontal==False: # Nodes for left-right districts\n",
    "            nodes.append([x_t,y_t+(y_road+2*y_house)])\n",
    "            nodes.append([x_t,y_t-(y_road+2*y_house)])\n",
    "            while count<(n-7):\n",
    "                x=district[count][0]\n",
    "                y=district[count][1]+1/2*y_house+1/2*y_road\n",
    "                for i in range (0,6):\n",
    "                    nodes.append([x+i*x_house,y])\n",
    "                count+=24\n",
    "        if horizontal==True: # Nodes for top-down districts\n",
    "            nodes.append([x_t+(x_road+2*x_house),y_t])\n",
    "            nodes.append([x_t-(x_road+2*x_house),y_t])\n",
    "            while count<(n-7):\n",
    "                x=district[count][0]+1/2*x_house+1/2*x_road\n",
    "                y=district[count][1]\n",
    "                for i in range (0,6):\n",
    "                    nodes.append([x,y+i*y_house])\n",
    "                count+=24\n",
    "    if n==12: # These are the nodes for district 5 i.e. top right outlier of 12\n",
    "        x=district[0][0]+1/2*x_house\n",
    "        y=district[0][1]-y_house\n",
    "        for i in range (0,7):\n",
    "            nodes.append([x,y+i*y_house])\n",
    "    return nodes"
   ]
  },
  {
   "cell_type": "code",
   "execution_count": 8,
   "metadata": {},
   "outputs": [],
   "source": [
    "# Function to create all lines going from transformer to the houses\n",
    "# 2 inputs: district and nodes #\n",
    "# Output is an array of LineStrings, has geodata already\n",
    "def lines(district,nodes):\n",
    "    n=len(district)\n",
    "    lines=[]\n",
    "    if n>12:\n",
    "        count1=0\n",
    "        count2=0\n",
    "        for i in range (0,6):\n",
    "            lines.append(LineString([[X0,Y0],nodes[0],nodes[2],nodes[3+count1+i],district[i+count2],district[i+12+count2]]))\n",
    "            lines.append(LineString([[X0,Y0],nodes[0],nodes[2],nodes[3+count1+i],district[i+6+count2],district[i+12+6+count2]]))\n",
    "        count1+=6\n",
    "        count2=+24\n",
    "        for i in range (0,6):\n",
    "            lines.append(LineString([[X0,Y0],nodes[0],nodes[1],nodes[3+count1+i],district[i+count2],district[i+12+count2]]))\n",
    "            lines.append(LineString([[X0,Y0],nodes[0],nodes[1],nodes[3+count1+i],district[i+6+count2],district[i+12+6+count2]]))\n",
    "    else:\n",
    "        for i in range (0,6):\n",
    "            lines.append(LineString([[X0,Y0],nodes[0],nodes[1],nodes[2+i],district[i],district[i+6]]))\n",
    "    return lines"
   ]
  },
  {
   "cell_type": "code",
   "execution_count": 9,
   "metadata": {},
   "outputs": [],
   "source": [
    "# Defining district points/centroids by applying function; note that transformer dataframes already defined initially\n",
    "# Inputs: you will need to define the starting point for each district, Horizontal: True/False, and no. houses\n",
    "district1=district(X0-length_t-1/2*x_road-6*x_house,Y0-y_road-4*y_house,False,48)\n",
    "district2=district(X0-x_road-4*x_house,Y0-length_t-1/2*y_road-6*y_house,True,48)\n",
    "district3=district(X0+length_t+1/2*x_road,Y0-y_road-4*y_house,False,48)\n",
    "district4=district(X0-x_road-4*x_house,Y0+length_t+1/2*y_road,True,48)\n",
    "district5=district(X0+length_t+1/2*x_road,Y0+length_t+1/2*y_road,True,8)\n",
    "# We directly define the school's coordinates, with reference to ref point X0Y0\n",
    "districtsch = {'X': [X0-11*x_house], 'Y': [Y0+11*y_house]}\n",
    "\n",
    "# With the output arrays, we now create dataframes for each district\n",
    "d1 = pd.DataFrame(district1, columns=[\"X\", \"Y\"])\n",
    "d2 = pd.DataFrame(district2, columns=[\"X\", \"Y\"])\n",
    "d3 = pd.DataFrame(district3, columns=[\"X\", \"Y\"])\n",
    "d4 = pd.DataFrame(district4, columns=[\"X\", \"Y\"])\n",
    "d5 = pd.DataFrame(district5, columns=[\"X\", \"Y\"])\n",
    "# Again, school dataframe is directly defined\n",
    "dsch = pd.DataFrame(data=districtsch)\n",
    "\n",
    "# Combining all dataframes into one array with all district points and transformer points\n",
    "d = [trf_df, d1, d2, d3, d4, d5, dsch]\n",
    "# Making into a big dataframe that contains points of trf + houses + school\n",
    "df_d = pd.concat(d)\n",
    "\n",
    "# Making into a geodataframe of points\n",
    "gdf_d= gpd.GeoDataFrame(df_d, geometry=gpd.points_from_xy(df_d.X, df_d.Y))\n",
    "\n",
    "# Can print to test, should give 213 points/rows\n",
    "#print(gdf_d)"
   ]
  },
  {
   "cell_type": "code",
   "execution_count": 89,
   "metadata": {},
   "outputs": [],
   "source": [
    "# running the polygons function by district, and transformers\n",
    "polygons_district1=polygons(d1,5) # you can set your own 'size' of house using second variable, here 10m by 10m\n",
    "polygons_district2=polygons(d2,5)\n",
    "polygons_district3=polygons(d3,5)\n",
    "polygons_district4=polygons(d4,5)\n",
    "polygons_district5=polygons(d5,5)\n",
    "polygons_trf=polygons(trf_df,1) # here size of transformer is 2m by 2m\n",
    "polygons_sch=polygons(dsch,50) # and school is 100m by 100m\n",
    "\n",
    "# Combining all dataframes into one array with all district polygons and transformer polygons\n",
    "df_poly_d1 = pd.DataFrame({'geometry': polygons_district1})\n",
    "df_poly_d2 = pd.DataFrame({'geometry': polygons_district2})\n",
    "df_poly_d3 = pd.DataFrame({'geometry': polygons_district3})\n",
    "df_poly_d4 = pd.DataFrame({'geometry': polygons_district4})\n",
    "df_poly_d5 = pd.DataFrame({'geometry': polygons_district5})\n",
    "df_poly_trf = pd.DataFrame({'geometry': polygons_trf})\n",
    "df_poly_sch = pd.DataFrame({'geometry': polygons_sch})\n",
    "# Making into a big dataframe that contains polygons of trf + houses + school\n",
    "d_polygons = [df_poly_d1, df_poly_d2, df_poly_d3, df_poly_d4, df_poly_d5, df_poly_trf, df_poly_sch]\n",
    "df_polygons = pd.concat(d_polygons)\n",
    "\n",
    "# Making into a geodataframe of polygons\n",
    "gdf_polygons= gpd.GeoDataFrame(df_polygons)"
   ]
  },
  {
   "cell_type": "code",
   "execution_count": 90,
   "metadata": {},
   "outputs": [],
   "source": [
    "# Defining node points/centroids where lines turn by applying function\n",
    "# You will need to input which district, as well as the transformer position x_t and y_t\n",
    "nodes1=nodes(district1,False,X0-length_t,Y0) # NOTE TO SELF MAYBE AUTOMATE THIS\n",
    "nodes2=nodes(district2,True,X0,Y0-length_t)\n",
    "nodes3=nodes(district3,False,X0+length_t,Y0)\n",
    "nodes4=nodes(district4,True,X0,Y0+length_t)\n",
    "nodes5=nodes(district5,True,X0+length_t,Y0+length_t)\n",
    "\n",
    "# Defining lines by applying function\n",
    "# You will need to define which district and nodes it runs through\n",
    "lines1=lines(district1,nodes1)\n",
    "lines2=lines(district2,nodes2)\n",
    "lines3=lines(district3,nodes3)\n",
    "lines4=lines(district4,nodes4)\n",
    "lines5=lines(district5,nodes5)\n",
    "# Create school line array separately, note it doesn't need to go through a node (trf direct to school)\n",
    "linessch=[]\n",
    "linessch.append(LineString([(X0,Y0),transformers[6],(X0-11*x_house, Y0+11*y_house)]))\n",
    "\n",
    "# To create a geodataframe for lines, first we need both the line names and the line geometry i.e. LineString\n",
    "# Defining the list containing all LineString data\n",
    "list_lines=lines1+lines2+lines3+lines4+lines5+linessch\n",
    "# Defining the line numbers\n",
    "line_number=[0]*len(list_lines)\n",
    "# And create names for them\n",
    "names_lines=[0]*(len(list_lines))\n",
    "for i in range (len(list_lines)):\n",
    "    names_lines[i]='Line %s'%i\n",
    "\n",
    "# Now, create geodataframe containing lines' geometries\n",
    "l = {'col1': names_lines, 'geometry': list_lines}\n",
    "gdf_lines = gpd.GeoDataFrame(l)"
   ]
  },
  {
   "cell_type": "code",
   "execution_count": 91,
   "metadata": {},
   "outputs": [
    {
     "data": {
      "text/plain": [
       "<AxesSubplot:>"
      ]
     },
     "execution_count": 91,
     "metadata": {},
     "output_type": "execute_result"
    },
    {
     "data": {
      "image/png": "[encoded data removed]",
      "text/plain": [
       "<Figure size 720x432 with 1 Axes>"
      ]
     },
     "metadata": {
      "needs_background": "light"
     },
     "output_type": "display_data"
    }
   ],
   "source": [
    "# This should give you a plot of (1) Polygons (2) Lines and (3) Points of all transformers, houses, school\n",
    "gdf_d.plot(ax=gdf_lines.plot(ax=gdf_polygons.plot(figsize=(10, 6), color= 'bisque'), color='black'), marker='o', color='turquoise', markersize=20)"
   ]
  },
  {
   "cell_type": "code",
   "execution_count": 92,
   "metadata": {},
   "outputs": [],
   "source": [
    "# Now, we need to convert all the coordinates into latlong CRS for OpenStreetMap\n",
    "# Note we will be using OSM as the base layer in QGIS, I'm not sure if you use a different base map if you'll need to find/change to the respective CRS\n",
    "\n",
    "# Create transform to new coordinate system (OSM uses 3857)\n",
    "project2 = pyproj.Transformer.from_proj(\n",
    "    pyproj.Proj('epsg:3395'), # source coordinate system, MERCATOR IN METRES\n",
    "    pyproj.Proj('epsg:3857')) # destination coordinate system, OPENSTREETMAP IN DEGREES"
   ]
  },
  {
   "cell_type": "code",
   "execution_count": 93,
   "metadata": {},
   "outputs": [],
   "source": [
    "# To create transformations, we need to run a list of all the points/lines/polygons through the transformation function\n",
    "# Create list of points\n",
    "list_point=gpd.points_from_xy(df_d.X, df_d.Y)\n",
    "\n",
    "# Create list of polygons\n",
    "list_polygons=polygons_district1+polygons_district2+polygons_district3+polygons_district4+polygons_district5+polygons_trf+polygons_sch\n",
    "\n",
    "# Note we already have a list of lines defined above (list_lines)"
   ]
  },
  {
   "cell_type": "code",
   "execution_count": 94,
   "metadata": {},
   "outputs": [],
   "source": [
    "# Create empty arrays for each respective point/line/polygon to store the transformed coordinates\n",
    "\n",
    "#Change the points coordinates by applying the above transformation function\n",
    "n1=len(list_point)\n",
    "points_qgis=[]\n",
    "for i in range (n1):\n",
    "    points_qgis.append(transform(project2.transform,list_point[i]))\n",
    "\n",
    "#Change the line coordinates\n",
    "n2=len(list_lines)\n",
    "lines_qgis=[]\n",
    "for i in range (n2):\n",
    "    lines_qgis.append(transform(project2.transform,list_lines[i]))\n",
    "    \n",
    "# Change the polygon coordinates\n",
    "n3=len(list_polygons)\n",
    "polygons_qgis=[]\n",
    "for i in range (n3):\n",
    "    polygons_qgis.append(transform(project2.transform,list_polygons[i]))"
   ]
  },
  {
   "cell_type": "code",
   "execution_count": 95,
   "metadata": {},
   "outputs": [
    {
     "name": "stdout",
     "output_type": "stream",
     "text": [
      "                             geometry\n",
      "0    POINT (13744821.577 1218233.563)\n",
      "1    POINT (13744881.577 1218233.563)\n",
      "2    POINT (13744821.577 1218293.953)\n",
      "3    POINT (13744761.577 1218233.563)\n",
      "4    POINT (13744821.577 1218173.173)\n",
      "..                                ...\n",
      "207  POINT (13744896.577 1218324.148)\n",
      "208  POINT (13744896.577 1218334.213)\n",
      "209  POINT (13744896.577 1218344.278)\n",
      "210  POINT (13744896.577 1218354.343)\n",
      "211  POINT (13744711.577 1218344.278)\n",
      "\n",
      "[212 rows x 1 columns]\n",
      "                                              geometry\n",
      "0    LINESTRING (13744821.577 1218233.563, 13744761...\n",
      "1    LINESTRING (13744821.577 1218233.563, 13744761...\n",
      "2    LINESTRING (13744821.577 1218233.563, 13744761...\n",
      "3    LINESTRING (13744821.577 1218233.563, 13744761...\n",
      "4    LINESTRING (13744821.577 1218233.563, 13744761...\n",
      "..                                                 ...\n",
      "98   LINESTRING (13744821.577 1218233.563, 13744881...\n",
      "99   LINESTRING (13744821.577 1218233.563, 13744881...\n",
      "100  LINESTRING (13744821.577 1218233.563, 13744881...\n",
      "101  LINESTRING (13744821.577 1218233.563, 13744881...\n",
      "102  LINESTRING (13744821.577 1218233.563, 13744761...\n",
      "\n",
      "[103 rows x 1 columns]\n",
      "                                              geometry\n",
      "0    POLYGON ((13744696.577 1218178.206, 13744696.5...\n",
      "1    POLYGON ((13744706.577 1218178.206, 13744706.5...\n",
      "2    POLYGON ((13744716.577 1218178.206, 13744716.5...\n",
      "3    POLYGON ((13744726.577 1218178.206, 13744726.5...\n",
      "4    POLYGON ((13744736.577 1218178.206, 13744736.5...\n",
      "..                                                 ...\n",
      "207  POLYGON ((13744760.577 1218232.557, 13744760.5...\n",
      "208  POLYGON ((13744820.577 1218172.167, 13744820.5...\n",
      "209  POLYGON ((13744880.577 1218292.947, 13744880.5...\n",
      "210  POLYGON ((13744760.577 1218292.947, 13744760.5...\n",
      "211  POLYGON ((13744661.577 1218293.953, 13744661.5...\n",
      "\n",
      "[212 rows x 1 columns]\n"
     ]
    }
   ],
   "source": [
    "# Now we first save each list as a geodataframe, then save as a .shp file\n",
    "# Points\n",
    "\n",
    "# And now create geodataframe using list of all points\n",
    "points_epsg = {'geometry': points_qgis}\n",
    "gdf = gpd.GeoDataFrame(points_epsg, crs=\"EPSG:3857\")\n",
    "print(gdf)\n",
    "\n",
    "# Lines\n",
    "lines_epsg = {'geometry': lines_qgis}\n",
    "gdf2 = gpd.GeoDataFrame(lines_epsg, crs=\"EPSG:3857\")\n",
    "print(gdf2)\n",
    "\n",
    "# Polygons\n",
    "polygons_epsg = {'geometry': polygons_qgis}\n",
    "gdf3 = gpd.GeoDataFrame(polygons_epsg, crs=\"EPSG:3857\")\n",
    "print(gdf3)\n",
    "\n"
   ]
  },
  {
   "cell_type": "code",
   "execution_count": 96,
   "metadata": {},
   "outputs": [
    {
     "name": "stdout",
     "output_type": "stream",
     "text": [
      "                           geometry\n",
      "0  POINT (13724266.581 1224720.438)\n",
      "                                            geometry\n",
      "0  LINESTRING (13744821.577 1218233.563, 13724266...\n",
      "                                            geometry\n",
      "0  POLYGON ((13724166.581 1224619.788, 13724166.5...\n"
     ]
    }
   ],
   "source": [
    "# We add in Cadiz details - point, polygon, line to central transformer\n",
    "# Cadiz point, transform twice from Google Earth CRS to Mercator, to OSM CRS\n",
    "cadiz_old = Point(10.934859070907093, 123.28718432607502) \n",
    "cadiz_new = transform(project.transform, cadiz_old)\n",
    "cadiz_qgis = []\n",
    "cadiz_qgis.append(transform(project2.transform,cadiz_new))\n",
    "cadiz_epsg = {'geometry': cadiz_qgis}\n",
    "gdf_cadiz = gpd.GeoDataFrame(cadiz_epsg, crs=\"EPSG:3857\")\n",
    "print(gdf_cadiz)\n",
    "\n",
    "# Cadiz line, from central transformer to Cadiz point, transform once from Mercator to OSM CRS\n",
    "cadiz_line = LineString([(list_point[0]), cadiz_new])\n",
    "cadiz_line_qgis = []\n",
    "cadiz_line_qgis.append(transform(project2.transform,cadiz_line)) # line from central transformer to cadiz generator\n",
    "cadiz_line_epsg = {'geometry': cadiz_line_qgis}\n",
    "gdf_cadiz_line = gpd.GeoDataFrame(cadiz_line_epsg, crs=\"EPSG:3857\")\n",
    "print(gdf_cadiz_line)\n",
    "\n",
    "# Cadiz polygon, using polygon function around central point\n",
    "x_C = cadiz_new.x\n",
    "y_C = cadiz_new.y\n",
    "cadiz_poly_df = pd.DataFrame({'X': [x_C], 'Y': [y_C]})\n",
    "cadiz_polygon = polygons(cadiz_poly_df,100) # from Google maps Cadiz is roughly 200m by 200m\n",
    "\n",
    "cadiz_poly_qgis = []\n",
    "points_qgis=[]\n",
    "for i in range (1):\n",
    "    cadiz_poly_qgis.append(transform(project2.transform,cadiz_polygon[i]))\n",
    "\n",
    "# Then transforming once from Mercator to OSM CRS\n",
    "cadiz_poly_epsg = {'geometry': cadiz_poly_qgis}\n",
    "gdf_cadiz_poly = gpd.GeoDataFrame(cadiz_poly_epsg, crs=\"EPSG:3857\")\n",
    "print(gdf_cadiz_poly)"
   ]
  },
  {
   "cell_type": "code",
   "execution_count": 97,
   "metadata": {},
   "outputs": [],
   "source": [
    "#Saving the .shp file, note this will save to the same destination folder where this code is stored\n",
    "gdf.to_file(\"points.shp\")\n",
    "gdf2.to_file(\"lines.shp\")\n",
    "gdf3.to_file(\"polygons.shp\")\n",
    "gdf_cadiz.to_file(\"cadiz_point.shp\")\n",
    "gdf_cadiz_line.to_file(\"cadiz_line.shp\")\n",
    "gdf_cadiz_poly.to_file(\"cadiz_poly.shp\")\n",
    "\n",
    "# You should now be able to open QGIS and load each .shp layer onto the map\n",
    "# Use OSM as base layer and it should be located on the Philippines site, 'zoom to layer' on the points layer to see Cadiz site"
   ]
  },
  {
   "cell_type": "code",
   "execution_count": null,
   "metadata": {},
   "outputs": [],
   "source": []
  }
 ],
 "metadata": {
  "kernelspec": {
   "display_name": "geo_env",
   "language": "python",
   "name": "geo_env"
  },
  "language_info": {
   "codemirror_mode": {
    "name": "ipython",
    "version": 3
   },
   "file_extension": ".py",
   "mimetype": "text/x-python",
   "name": "python",
   "nbconvert_exporter": "python",
   "pygments_lexer": "ipython3",
   "version": "3.8.6"
  }
 },
 "nbformat": 4,
 "nbformat_minor": 4
}
